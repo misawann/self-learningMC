{
 "cells": [
  {
   "cell_type": "code",
   "execution_count": 1,
   "metadata": {},
   "outputs": [],
   "source": [
    "import sys\n",
    "sys.path.append(\"../src/\")\n",
    "\n",
    "import numpy as np\n",
    "import matplotlib.pyplot as plt"
   ]
  },
  {
   "cell_type": "code",
   "execution_count": 2,
   "metadata": {},
   "outputs": [],
   "source": [
    "from mcmc import Ising2D"
   ]
  },
  {
   "cell_type": "code",
   "execution_count": null,
   "metadata": {},
   "outputs": [],
   "source": [
    "simulator = Ising2D(Lx=50, Ly=50, J=1, beta=5, h=0)\n",
    "mean_magnitization = simulator.mean_magnitization_sweep(100, 1000, 100)\n",
    "print(mean_magnitization)"
   ]
  },
  {
   "cell_type": "code",
   "execution_count": null,
   "metadata": {},
   "outputs": [],
   "source": [
    "tmin = 0.1\n",
    "tmax = 1\n",
    "t_steps = 10\n",
    "ts = np.linspace(tmin, tmax, t_steps)\n",
    "\n",
    "for t in ts:\n",
    "    simulator = Ising2D(Lx=50, Ly=50, J=1, beta=1/t, h=0)\n",
    "    mean_magnitization = simulator.mean_magnitization_sweep(100, 1000, 100)"
   ]
  }
 ],
 "metadata": {
  "kernelspec": {
   "display_name": "sandbox",
   "language": "python",
   "name": "python3"
  },
  "language_info": {
   "codemirror_mode": {
    "name": "ipython",
    "version": 3
   },
   "file_extension": ".py",
   "mimetype": "text/x-python",
   "name": "python",
   "nbconvert_exporter": "python",
   "pygments_lexer": "ipython3",
   "version": "3.8.6"
  },
  "orig_nbformat": 4,
  "vscode": {
   "interpreter": {
    "hash": "20ebbd932d455d70c8c1c230ea7f57d1432e659bf534569b894027e0c2fafa6d"
   }
  }
 },
 "nbformat": 4,
 "nbformat_minor": 2
}
